{
  "nbformat": 4,
  "nbformat_minor": 0,
  "metadata": {
    "colab": {
      "name": "Trabalho prático - Módulo 3.ipynb",
      "provenance": [],
      "collapsed_sections": [],
      "authorship_tag": "ABX9TyN+WCa02FnhvzMqs6hFmlP3",
      "include_colab_link": true
    },
    "kernelspec": {
      "name": "python3",
      "display_name": "Python 3"
    }
  },
  "cells": [
    {
      "cell_type": "markdown",
      "metadata": {
        "id": "view-in-github",
        "colab_type": "text"
      },
      "source": [
        "<a href=\"https://colab.research.google.com/github/victoraccete/ML-bootcamp/blob/master/Trabalho_pr%C3%A1tico_M%C3%B3dulo_3.ipynb\" target=\"_parent\"><img src=\"https://colab.research.google.com/assets/colab-badge.svg\" alt=\"Open In Colab\"/></a>"
      ]
    },
    {
      "cell_type": "markdown",
      "metadata": {
        "id": "GYDxH40ZzU6a"
      },
      "source": [
        "# Trabalho Prático 3"
      ]
    },
    {
      "cell_type": "markdown",
      "metadata": {
        "id": "0Pul2X8jzJS-"
      },
      "source": [
        "## Enunciado\n",
        "1. Baixar os arquivos referentes as bases de dados e acessá-las pelo collab.\n",
        "2. Obter informações sobre números de features e instâncias dos datasets.\n",
        "3. Identificar a existência de dados faltantes nos datasets.\n",
        "4. Separar os conjuntos de treino e teste, usando a função train_test_slipt, com\n",
        "test_size = 0.25 e random_state = 42.\n",
        "5. Importar o sklearn para:\n",
        "6. Aplicar à base diabetes_numeric.csv o modelo de regressão linear.\n",
        "7. Avaliar as métricas R2, MAE e MSE.\n",
        "8. Aplicar à base bloodtransf.csv o modelo SVC, com kernel=rbf.\n",
        "9. Avaliar as métricas Acurácia, Precision, Recall, F1 e AUROC\n",
        "10. Aplicar à base wine.csv o modelo kmeans.\n",
        "11. Identificar o número de clusters mais adequado de acordo com o dataset\n",
        "12. Avaliar as métricas Coeficiente de Silhueta, Davies-Bouldin Score e Mutual\n",
        "Information.\n"
      ]
    },
    {
      "cell_type": "code",
      "metadata": {
        "id": "zEDTYWESxzxP"
      },
      "source": [
        "import pandas as pd\n",
        "import numpy as np"
      ],
      "execution_count": 202,
      "outputs": []
    },
    {
      "cell_type": "markdown",
      "metadata": {
        "id": "s4MX8l3BzkKP"
      },
      "source": [
        "## Perguntas\n",
        "1: Sobre o número de atributos da base de regressão, marque a alternativa CORRETA:  \n",
        "a) A base tem (43,3) atributos.  \n",
        "b) A base tem 3 atributos.  \n",
        "c) A base tem 43 + 3 = 46 atributos.  \n",
        "d) A base tem 43 atributos.  "
      ]
    },
    {
      "cell_type": "code",
      "metadata": {
        "id": "iNLOT1oTyt_U",
        "outputId": "f56f4e6c-5fa5-4efd-ab1e-9be8e9e3c10c",
        "colab": {
          "base_uri": "https://localhost:8080/",
          "height": 34
        }
      },
      "source": [
        "diabetes = pd.read_csv('https://raw.githubusercontent.com/victoraccete/ML-bootcamp/master/Mod_3/datasets/diabetes_numeric.csv')\n",
        "diabetes.shape"
      ],
      "execution_count": 203,
      "outputs": [
        {
          "output_type": "execute_result",
          "data": {
            "text/plain": [
              "(43, 3)"
            ]
          },
          "metadata": {
            "tags": []
          },
          "execution_count": 203
        }
      ]
    },
    {
      "cell_type": "code",
      "metadata": {
        "id": "xpir1MQrlb4G",
        "outputId": "7106f5d5-dd07-4d15-8cf7-dd67204a3b56",
        "colab": {
          "base_uri": "https://localhost:8080/",
          "height": 34
        }
      },
      "source": [
        "print(\"R: {}\".format(diabetes.shape[1]))"
      ],
      "execution_count": 204,
      "outputs": [
        {
          "output_type": "stream",
          "text": [
            "R: 3\n"
          ],
          "name": "stdout"
        }
      ]
    },
    {
      "cell_type": "markdown",
      "metadata": {
        "id": "56gPESgyz6eC"
      },
      "source": [
        "2: Sobre o número de instâncias da base de classificação, marque a alternativa CORRETA:  \n",
        "a) A base tem (748,5) instâncias.  \n",
        "b) A base tem 748 instâncias.  \n",
        "c) A base tem 753 instâncias.  \n",
        "d) A base tem 5 instâncias."
      ]
    },
    {
      "cell_type": "code",
      "metadata": {
        "id": "m2uw4vI-y_sv",
        "outputId": "2fbb6818-6b10-427a-eae4-da0ae60878a1",
        "colab": {
          "base_uri": "https://localhost:8080/",
          "height": 34
        }
      },
      "source": [
        "blood_transf = pd.read_csv('https://raw.githubusercontent.com/victoraccete/ML-bootcamp/master/Mod_3/datasets/bloodtransf.csv')\n",
        "blood_transf.shape"
      ],
      "execution_count": 205,
      "outputs": [
        {
          "output_type": "execute_result",
          "data": {
            "text/plain": [
              "(748, 5)"
            ]
          },
          "metadata": {
            "tags": []
          },
          "execution_count": 205
        }
      ]
    },
    {
      "cell_type": "code",
      "metadata": {
        "id": "w89xqPCTmFqv",
        "outputId": "ef71612a-3fe4-4a41-af33-7eaa017eea6b",
        "colab": {
          "base_uri": "https://localhost:8080/",
          "height": 34
        }
      },
      "source": [
        "print(\"R: {}\".format(blood_transf.shape[0]))"
      ],
      "execution_count": 206,
      "outputs": [
        {
          "output_type": "stream",
          "text": [
            "R: 748\n"
          ],
          "name": "stdout"
        }
      ]
    },
    {
      "cell_type": "markdown",
      "metadata": {
        "id": "LQG6IZFO0aA5"
      },
      "source": [
        "3: Sobre a base de clusterização, marque a alternativa CORRETA:  \n",
        "a) A base tem 178 instâncias divididas em 4 classes.  \n",
        "b) A base tem 4 atributos e 3 instâncias.  \n",
        "c) A base tem 178 atributos e 4 instâncias.  \n",
        "d) A base tem 178 instâncias divididas em 3 classes."
      ]
    },
    {
      "cell_type": "code",
      "metadata": {
        "id": "ggOcCY3l0h-J",
        "outputId": "51acdc3e-8b8f-4456-fd52-f3566a1581aa",
        "colab": {
          "base_uri": "https://localhost:8080/",
          "height": 34
        }
      },
      "source": [
        "wine = pd.read_csv('https://raw.githubusercontent.com/victoraccete/ML-bootcamp/master/Mod_3/datasets/wine.csv')\n",
        "wine.shape"
      ],
      "execution_count": 207,
      "outputs": [
        {
          "output_type": "execute_result",
          "data": {
            "text/plain": [
              "(178, 14)"
            ]
          },
          "metadata": {
            "tags": []
          },
          "execution_count": 207
        }
      ]
    },
    {
      "cell_type": "code",
      "metadata": {
        "id": "nsIFmgOKmY5U",
        "outputId": "23942eaa-c8bb-46b9-8d2e-ef2cca895377",
        "colab": {
          "base_uri": "https://localhost:8080/",
          "height": 34
        }
      },
      "source": [
        "# now we want to check the numbers of classes\n",
        "wine['class'].nunique()"
      ],
      "execution_count": 208,
      "outputs": [
        {
          "output_type": "execute_result",
          "data": {
            "text/plain": [
              "3"
            ]
          },
          "metadata": {
            "tags": []
          },
          "execution_count": 208
        }
      ]
    },
    {
      "cell_type": "markdown",
      "metadata": {
        "id": "w9KPsVOgmnTl"
      },
      "source": [
        "R: 178 instâncias divididas em 3 classes. "
      ]
    },
    {
      "cell_type": "markdown",
      "metadata": {
        "id": "Opbl2CIw0iXQ"
      },
      "source": [
        "4: Sobre dados faltantes, marque a alternativa CORRETA:  \n",
        "a) Apenas as bases wine.csv e bloodtransf.csv têm dados faltantes.  \n",
        "b) Todas as bases têm dados faltantes.  \n",
        "c) Nenhuma base tem dados faltantes.  \n",
        "d) Apenas a base wine.csv tem dados faltantes."
      ]
    },
    {
      "cell_type": "code",
      "metadata": {
        "id": "3qDiRNst0qny",
        "outputId": "5c6a357f-e390-48c3-d180-7819c888809d",
        "colab": {
          "base_uri": "https://localhost:8080/",
          "height": 187
        }
      },
      "source": [
        "diabetes.info()"
      ],
      "execution_count": 209,
      "outputs": [
        {
          "output_type": "stream",
          "text": [
            "<class 'pandas.core.frame.DataFrame'>\n",
            "RangeIndex: 43 entries, 0 to 42\n",
            "Data columns (total 3 columns):\n",
            " #   Column     Non-Null Count  Dtype  \n",
            "---  ------     --------------  -----  \n",
            " 0   age        43 non-null     float64\n",
            " 1   deficit    43 non-null     float64\n",
            " 2   c_peptide  43 non-null     float64\n",
            "dtypes: float64(3)\n",
            "memory usage: 1.1 KB\n"
          ],
          "name": "stdout"
        }
      ]
    },
    {
      "cell_type": "code",
      "metadata": {
        "id": "S3oNyRlRnBvP",
        "outputId": "e25f4713-8367-4920-df92-031220aca466",
        "colab": {
          "base_uri": "https://localhost:8080/",
          "height": 221
        }
      },
      "source": [
        "blood_transf.info()"
      ],
      "execution_count": 210,
      "outputs": [
        {
          "output_type": "stream",
          "text": [
            "<class 'pandas.core.frame.DataFrame'>\n",
            "RangeIndex: 748 entries, 0 to 747\n",
            "Data columns (total 5 columns):\n",
            " #   Column  Non-Null Count  Dtype\n",
            "---  ------  --------------  -----\n",
            " 0   V1      748 non-null    int64\n",
            " 1   V2      748 non-null    int64\n",
            " 2   V3      748 non-null    int64\n",
            " 3   V4      748 non-null    int64\n",
            " 4   Class   748 non-null    int64\n",
            "dtypes: int64(5)\n",
            "memory usage: 29.3 KB\n"
          ],
          "name": "stdout"
        }
      ]
    },
    {
      "cell_type": "code",
      "metadata": {
        "id": "aIJgbqt1m5YC",
        "outputId": "0b2ec195-c41e-4730-8769-648b47141600",
        "colab": {
          "base_uri": "https://localhost:8080/",
          "height": 374
        }
      },
      "source": [
        "wine.info()"
      ],
      "execution_count": 211,
      "outputs": [
        {
          "output_type": "stream",
          "text": [
            "<class 'pandas.core.frame.DataFrame'>\n",
            "RangeIndex: 178 entries, 0 to 177\n",
            "Data columns (total 14 columns):\n",
            " #   Column                          Non-Null Count  Dtype  \n",
            "---  ------                          --------------  -----  \n",
            " 0   class                           178 non-null    int64  \n",
            " 1   Alcohol                         178 non-null    float64\n",
            " 2   Malic_acid                      178 non-null    float64\n",
            " 3   Ash                             178 non-null    float64\n",
            " 4   Alcalinity_of_ash               178 non-null    float64\n",
            " 5   Magnesium                       178 non-null    int64  \n",
            " 6   Total_phenols                   178 non-null    float64\n",
            " 7   Flavanoids                      178 non-null    float64\n",
            " 8   Nonflavanoid_phenols            178 non-null    float64\n",
            " 9   Proanthocyanins                 178 non-null    float64\n",
            " 10  Color_intensity                 178 non-null    float64\n",
            " 11  Hue                             178 non-null    float64\n",
            " 12  OD280%2FOD315_of_diluted_wines  178 non-null    float64\n",
            " 13  Proline                         178 non-null    int64  \n",
            "dtypes: float64(11), int64(3)\n",
            "memory usage: 19.6 KB\n"
          ],
          "name": "stdout"
        }
      ]
    },
    {
      "cell_type": "markdown",
      "metadata": {
        "id": "kAzMPCWKm8_W"
      },
      "source": [
        "R: Nenhuma base tem dados faltantes."
      ]
    },
    {
      "cell_type": "markdown",
      "metadata": {
        "id": "tKD0RF-J0uKo"
      },
      "source": [
        "5: Em relação a modelagem utilizando a regressão linear, marque a alternativa CORRETA sobre a métrica r2:  \n",
        "a) O r2 encontrado é aproximadamente 0.76.  \n",
        "b) O r2 encontrado é aproximadamente 0.22.  \n",
        "c) O r2 encontrado é aproximadamente 0.47.  \n",
        "d) O r2 encontrado é aproximadamente 0.65."
      ]
    },
    {
      "cell_type": "code",
      "metadata": {
        "id": "bNK3V14h00SZ",
        "outputId": "6f323fe2-0372-4692-d7c5-cda8edc33255",
        "colab": {
          "base_uri": "https://localhost:8080/",
          "height": 136
        }
      },
      "source": [
        "print(diabetes.columns)\n",
        "input = diabetes.drop('c_peptide', axis=1).values # .values returns a numpy array\n",
        "print(type(input))\n",
        "print(input[:5])"
      ],
      "execution_count": 212,
      "outputs": [
        {
          "output_type": "stream",
          "text": [
            "Index(['age', 'deficit', 'c_peptide'], dtype='object')\n",
            "<class 'numpy.ndarray'>\n",
            "[[  5.2  -8.1]\n",
            " [  8.8 -16.1]\n",
            " [ 10.5  -0.9]\n",
            " [ 10.6  -7.8]\n",
            " [ 10.4 -29. ]]\n"
          ],
          "name": "stdout"
        }
      ]
    },
    {
      "cell_type": "code",
      "metadata": {
        "id": "uGJaejLvpDCe",
        "outputId": "5bb24f20-2af8-4ec8-d7b7-96cd6748cffc",
        "colab": {
          "base_uri": "https://localhost:8080/",
          "height": 51
        }
      },
      "source": [
        "labels = diabetes.c_peptide.values\n",
        "print(type(labels))\n",
        "print(labels[:5])"
      ],
      "execution_count": 213,
      "outputs": [
        {
          "output_type": "stream",
          "text": [
            "<class 'numpy.ndarray'>\n",
            "[4.8 4.1 5.2 5.5 5. ]\n"
          ],
          "name": "stdout"
        }
      ]
    },
    {
      "cell_type": "code",
      "metadata": {
        "id": "ScfRF9TOoPl2",
        "outputId": "a78f1e5d-b90f-4609-b022-83af24d1d12b",
        "colab": {
          "base_uri": "https://localhost:8080/",
          "height": 85
        }
      },
      "source": [
        "# splitting the dataset\n",
        "from sklearn.model_selection import train_test_split \n",
        "\n",
        "X_train, X_test, y_train, y_test = train_test_split(input, labels, test_size=0.25, random_state=42)\n",
        "\n",
        "print(X_train.shape)\n",
        "print(X_test.shape)\n",
        "print(y_train.shape)\n",
        "print(y_test.shape)"
      ],
      "execution_count": 214,
      "outputs": [
        {
          "output_type": "stream",
          "text": [
            "(32, 2)\n",
            "(11, 2)\n",
            "(32,)\n",
            "(11,)\n"
          ],
          "name": "stdout"
        }
      ]
    },
    {
      "cell_type": "code",
      "metadata": {
        "id": "LIWOh2xkqZ6H",
        "outputId": "c8350b8f-b423-4861-c557-de93a96a2579",
        "colab": {
          "base_uri": "https://localhost:8080/",
          "height": 34
        }
      },
      "source": [
        "from sklearn.linear_model import LinearRegression\n",
        "from sklearn import metrics  \n",
        "\n",
        "lin_regression = LinearRegression().fit(X_train, y_train)\n",
        "regression_preds = lin_regression.predict(X_test)\n",
        "print('R2: {0:.2f}'.format(metrics.r2_score(y_test, regression_preds))) "
      ],
      "execution_count": 215,
      "outputs": [
        {
          "output_type": "stream",
          "text": [
            "R2: 0.22\n"
          ],
          "name": "stdout"
        }
      ]
    },
    {
      "cell_type": "markdown",
      "metadata": {
        "id": "8-oKes-g00iq"
      },
      "source": [
        "6: Em relação a modelagem utilizando a regressão linear, marque a alternativa CORRETA sobre a métrica MAE:  \n",
        "a) O MAE encontrado é aproximadamente 0.61.  \n",
        "b) O MAE encontrado é aproximadamente 0.51.  \n",
        "c) O MAE encontrado é aproximadamente 0.81.  \n",
        "d) O MAE encontrado é aproximadamente 0.71."
      ]
    },
    {
      "cell_type": "code",
      "metadata": {
        "id": "ZADfCUfb02fD",
        "outputId": "b11d9d74-a1a5-41d5-fe78-70d47098cf86",
        "colab": {
          "base_uri": "https://localhost:8080/",
          "height": 34
        }
      },
      "source": [
        "print('MAE: {0:.2f}'.format(metrics.mean_absolute_error(y_test, regression_preds))) "
      ],
      "execution_count": 216,
      "outputs": [
        {
          "output_type": "stream",
          "text": [
            "MAE: 0.61\n"
          ],
          "name": "stdout"
        }
      ]
    },
    {
      "cell_type": "markdown",
      "metadata": {
        "id": "PxYR4e8i029R"
      },
      "source": [
        "7: Em relação a modelagem utilizando a regressão linear, marque a alternativa CORRETA sobre a métrica MSE:  \n",
        "a) O MSE encontrado é aproximadamente 0.47.  \n",
        "b) O MSE encontrado é aproximadamente 0.53.  \n",
        "c) O MSE encontrado é aproximadamente 0.22.  \n",
        "d) O MSE encontrado é aproximadamente 0.61."
      ]
    },
    {
      "cell_type": "code",
      "metadata": {
        "id": "6xhB1YR004zq",
        "outputId": "e033f888-3939-4069-f3b1-e1f18eed545b",
        "colab": {
          "base_uri": "https://localhost:8080/",
          "height": 34
        }
      },
      "source": [
        "print('MSE: {0:.2f}'.format(metrics.mean_squared_error(y_test, regression_preds))) "
      ],
      "execution_count": 217,
      "outputs": [
        {
          "output_type": "stream",
          "text": [
            "MSE: 0.47\n"
          ],
          "name": "stdout"
        }
      ]
    },
    {
      "cell_type": "markdown",
      "metadata": {
        "id": "_m0Lk-uG05C6"
      },
      "source": [
        "8: Em relação a modelagem utilizando o SVM, marque a alternativa CORRETA sobre a métrica acurácia:  \n",
        "a) A acurácia encontrada é aproximadamente 0.75.  \n",
        "b) A acurácia encontrada é aproximadamente 0.60.  \n",
        "c) A acurácia encontrada é aproximadamente 0.70.  \n",
        "d) A acurácia encontrada é aproximadamente 0.65."
      ]
    },
    {
      "cell_type": "code",
      "metadata": {
        "id": "9Z2pS1W506jI",
        "outputId": "fcbb4878-fcf8-41f1-da15-c64ee96765bf",
        "colab": {
          "base_uri": "https://localhost:8080/",
          "height": 170
        }
      },
      "source": [
        "print(blood_transf.columns)\n",
        "input = blood_transf.drop(columns=['Class']).values # another way different from the used previously\n",
        "print(type(input))\n",
        "print(input[:5])\n",
        "labels = blood_transf.iloc[:, 4].values\n",
        "print(type(labels))\n",
        "print(labels[:5])"
      ],
      "execution_count": 218,
      "outputs": [
        {
          "output_type": "stream",
          "text": [
            "Index(['V1', 'V2', 'V3', 'V4', 'Class'], dtype='object')\n",
            "<class 'numpy.ndarray'>\n",
            "[[    2    50 12500    98]\n",
            " [    0    13  3250    28]\n",
            " [    1    16  4000    35]\n",
            " [    2    20  5000    45]\n",
            " [    1    24  6000    77]]\n",
            "<class 'numpy.ndarray'>\n",
            "[2 2 2 2 1]\n"
          ],
          "name": "stdout"
        }
      ]
    },
    {
      "cell_type": "code",
      "metadata": {
        "id": "QmI1GTRouiax",
        "outputId": "e29f44ea-3309-4572-c28c-8db955f3cf0b",
        "colab": {
          "base_uri": "https://localhost:8080/",
          "height": 85
        }
      },
      "source": [
        "from sklearn.model_selection import train_test_split \n",
        "\n",
        "X_train, X_test, y_train, y_test = train_test_split(input, labels, test_size=0.25, random_state=42)\n",
        "print(X_train.shape)\n",
        "print(X_test.shape)\n",
        "print(y_train.shape)\n",
        "print(y_test.shape)"
      ],
      "execution_count": 219,
      "outputs": [
        {
          "output_type": "stream",
          "text": [
            "(561, 4)\n",
            "(187, 4)\n",
            "(561,)\n",
            "(187,)\n"
          ],
          "name": "stdout"
        }
      ]
    },
    {
      "cell_type": "code",
      "metadata": {
        "id": "K6YRGlz5uCUU",
        "outputId": "01c75425-835e-416e-c34d-aac93c1a9ef7",
        "colab": {
          "base_uri": "https://localhost:8080/",
          "height": 34
        }
      },
      "source": [
        "from sklearn.svm import SVC\n",
        "\n",
        "svm_clf = SVC(kernel='rbf')\n",
        "svm_clf.fit(X_train, y_train)\n",
        "\n",
        "svm_preds = svm_clf.predict(X_test)\n",
        "print(\"Acc: {0:.2f}\".format(metrics.accuracy_score(y_test, svm_preds)))"
      ],
      "execution_count": 220,
      "outputs": [
        {
          "output_type": "stream",
          "text": [
            "Acc: 0.75\n"
          ],
          "name": "stdout"
        }
      ]
    },
    {
      "cell_type": "markdown",
      "metadata": {
        "id": "5mbPUzKJ064j"
      },
      "source": [
        "9: Em relação a modelagem utilizando o SVM, marque a alternativa CORRETA sobre as métricas precision e recall:  \n",
        "a) Os valores de precision e recall encontrados são aproximadamente 1.0 e 0.02, respectivamente.  \n",
        "b) Os valores de precision e recall encontrados são aproximadamente 0.02 e 0.98, respectivamente.  \n",
        "c) Os valores de precision e recall encontrados são aproximadamente 0.02 e 1, respectivamente.  \n",
        "d) Os valores de precision e recall encontrados são aproximadamente 0.08 e 0.88, respectivamente."
      ]
    },
    {
      "cell_type": "code",
      "metadata": {
        "id": "lJwMpAm408gM",
        "outputId": "493cb6ed-525c-4437-89ec-ab23273db538",
        "colab": {
          "base_uri": "https://localhost:8080/",
          "height": 170
        }
      },
      "source": [
        "print(metrics.classification_report(y_test, svm_preds))"
      ],
      "execution_count": 221,
      "outputs": [
        {
          "output_type": "stream",
          "text": [
            "              precision    recall  f1-score   support\n",
            "\n",
            "           1       0.75      1.00      0.86       139\n",
            "           2       1.00      0.02      0.04        48\n",
            "\n",
            "    accuracy                           0.75       187\n",
            "   macro avg       0.87      0.51      0.45       187\n",
            "weighted avg       0.81      0.75      0.65       187\n",
            "\n"
          ],
          "name": "stdout"
        }
      ]
    },
    {
      "cell_type": "markdown",
      "metadata": {
        "id": "gA1M_Sl1yid2"
      },
      "source": [
        "R: 1.0 e 0.02, respectivamente"
      ]
    },
    {
      "cell_type": "markdown",
      "metadata": {
        "id": "uePkA0f7083y"
      },
      "source": [
        "10: Em relação a modelagem utilizando o SVM, marque a alternativa CORRETA sobre a métrica f1:  \n",
        "a) A f1 encontrada é aproximadamente 0.12.  \n",
        "b) A f1 encontrada é aproximadamente 0.16.  \n",
        "c) A f1 encontrada é aproximadamente 0.04.  \n",
        "d) A f1 encontrada é aproximadamente 0.08."
      ]
    },
    {
      "cell_type": "markdown",
      "metadata": {
        "id": "VYwp08CKyrtO"
      },
      "source": [
        "R: 0.04"
      ]
    },
    {
      "cell_type": "markdown",
      "metadata": {
        "id": "nsMzAh_U0-nM"
      },
      "source": [
        "11: Em relação a modelagem utilizando o SVM, marque a alternativa CORRETA sobre a métrica AUROC:  \n",
        "a) A AUROC encontrada é aproximadamente 0.51, indicando que esse modelo resolve adequadamente o problema  \n",
        "b) A AUROC encontrada é aproximadamente 0.51, indicando que o modelo apresenta um resultado próximo de uma baseline aleatório.  \n",
        "c) A AUROC encontrada é aproximadamente 0.70, indicando que esse modelo resolve adequadamente o problema.  \n",
        "d) A AUROC encontrada é aproximadamente 0.70, indicando que esse modelo não resolve adequadamente o problema."
      ]
    },
    {
      "cell_type": "code",
      "metadata": {
        "id": "0yNL1rqC1BOC",
        "outputId": "0758d461-de97-49d1-ceb9-24906d7eca3f",
        "colab": {
          "base_uri": "https://localhost:8080/",
          "height": 34
        }
      },
      "source": [
        "print(\"R: {0:.2f}, muito próximo de um baseline aleatório\".format(metrics.roc_auc_score(y_test, svm_preds)))"
      ],
      "execution_count": 222,
      "outputs": [
        {
          "output_type": "stream",
          "text": [
            "R: 0.51, muito próximo de um baseline aleatório\n"
          ],
          "name": "stdout"
        }
      ]
    },
    {
      "cell_type": "markdown",
      "metadata": {
        "id": "3sy7W_lu1XnK"
      },
      "source": [
        "12: Em relação a modelagem utilizando o Kmeans, marque a alternativa CORRETA sobre o número de clusters:  \n",
        "a) O número de clusters mais adequado para o problema é 3.  \n",
        "b) O número de clusters mais adequado para o problema é 4.  \n",
        "c) O número de clusters mais adequado para o problema é 2.  \n",
        "d) O número de clusters mais adequado para o problema é 7."
      ]
    },
    {
      "cell_type": "markdown",
      "metadata": {
        "id": "7Qy4-tRG0G8m"
      },
      "source": [
        "R: 3"
      ]
    },
    {
      "cell_type": "markdown",
      "metadata": {
        "id": "njc0hesZ1ZE_"
      },
      "source": [
        "13: Em relação a modelagem utilizando o Kmeans, marque a alternativa CORRETA sobre a métrica Coeficiente de Silhueta:  \n",
        "a) O coeficiente de silhueta encontrado é aproximadamente 0.55.  \n",
        "b) O coeficiente de silhueta encontrado é aproximadamente 0.60.  \n",
        "c) O coeficiente de silhueta encontrado é aproximadamente 0.50.  \n",
        "d) O coeficiente de silhueta encontrado é aproximadamente 0.58."
      ]
    },
    {
      "cell_type": "code",
      "metadata": {
        "id": "Qwfx1TcK1bXB",
        "outputId": "7ec61e1c-dcb0-456f-ae44-52893ad6c1b8",
        "colab": {
          "base_uri": "https://localhost:8080/",
          "height": 85
        }
      },
      "source": [
        "input = wine.drop('class', axis=1).values # could also be done with wine.iloc[:, 1:]\n",
        "labels = wine.iloc[:, 0].values\n",
        "\n",
        "from sklearn.model_selection import train_test_split \n",
        "\n",
        "X_train, X_test, y_train, y_test = train_test_split(input, labels, test_size=0.25, random_state=42)\n",
        "print(X_train.shape)\n",
        "print(X_test.shape)\n",
        "print(y_train.shape)\n",
        "print(y_test.shape)"
      ],
      "execution_count": 223,
      "outputs": [
        {
          "output_type": "stream",
          "text": [
            "(133, 13)\n",
            "(45, 13)\n",
            "(133,)\n",
            "(45,)\n"
          ],
          "name": "stdout"
        }
      ]
    },
    {
      "cell_type": "code",
      "metadata": {
        "id": "se7gUr2313z0"
      },
      "source": [
        "from sklearn.cluster import KMeans\n",
        "\n",
        "clustering = KMeans(n_clusters=3, random_state=42)\n",
        "clustering.fit(X_train)\n",
        "\n",
        "cluster_preds = clustering.predict(X_test)"
      ],
      "execution_count": 224,
      "outputs": []
    },
    {
      "cell_type": "code",
      "metadata": {
        "id": "8hMkhPbX1WDq",
        "outputId": "5e09e6c2-f0f6-4e03-9430-74125bbfc7ac",
        "colab": {
          "base_uri": "https://localhost:8080/",
          "height": 34
        }
      },
      "source": [
        "from sklearn.metrics import cluster\n",
        "\n",
        "print(\"R: {0:.2f}\".format(metrics.silhouette_score(X_test, cluster_preds)))"
      ],
      "execution_count": 225,
      "outputs": [
        {
          "output_type": "stream",
          "text": [
            "R: 0.55\n"
          ],
          "name": "stdout"
        }
      ]
    },
    {
      "cell_type": "markdown",
      "metadata": {
        "id": "Q5bt43ao1bzG"
      },
      "source": [
        "14: Em relação a modelagem utilizando o Kmeans, marque a alternativa CORRETA sobre a métrica Davies-Bouldin Score:  \n",
        "a) O Davies-Bouldin Score encontrado é aproximadamente 0.59.  \n",
        "b) O Davies-Bouldin Score encontrado é aproximadamente 0.50.  \n",
        "c) O Davies-Bouldin Score encontrado é aproximadamente 0.54.  \n",
        "d) O Davies-Bouldin Score encontrado é aproximadamente 0.57."
      ]
    },
    {
      "cell_type": "code",
      "metadata": {
        "id": "rvY350vF1dbD",
        "outputId": "56f4844d-ccec-40be-a213-94bc4c9fc34e",
        "colab": {
          "base_uri": "https://localhost:8080/",
          "height": 34
        }
      },
      "source": [
        "print(\"R: {0:.2f}\".format(metrics.davies_bouldin_score(X_test, cluster_preds)))"
      ],
      "execution_count": 226,
      "outputs": [
        {
          "output_type": "stream",
          "text": [
            "R: 0.54\n"
          ],
          "name": "stdout"
        }
      ]
    },
    {
      "cell_type": "markdown",
      "metadata": {
        "id": "KSDbkKhb1dzJ"
      },
      "source": [
        "15: Em relação a modelagem utilizando o Kmeans, marque a alternativa CORRETA sobre a métrica Mutual information:  \n",
        "a) O Mutual information encontrado é aproximadamente 0.53.  \n",
        "b) O Mutual information encontrado é aproximadamente 0.58.  \n",
        "c) O Mutual information encontrado é aproximadamente 0.50.  \n",
        "d) O Mutual information encontrado é aproximadamente 0.55."
      ]
    },
    {
      "cell_type": "code",
      "metadata": {
        "id": "h6EufXCo3CES",
        "outputId": "965b7a6d-c3e5-4c5e-c476-f273a2386e8c",
        "colab": {
          "base_uri": "https://localhost:8080/",
          "height": 68
        }
      },
      "source": [
        "cluster_preds"
      ],
      "execution_count": 227,
      "outputs": [
        {
          "output_type": "execute_result",
          "data": {
            "text/plain": [
              "array([2, 0, 1, 0, 1, 0, 1, 2, 2, 2, 2, 1, 0, 1, 0, 1, 1, 2, 0, 1, 0, 1,\n",
              "       2, 2, 1, 2, 1, 2, 1, 0, 0, 1, 2, 0, 0, 0, 2, 1, 2, 2, 0, 1, 1, 2,\n",
              "       1], dtype=int32)"
            ]
          },
          "metadata": {
            "tags": []
          },
          "execution_count": 227
        }
      ]
    },
    {
      "cell_type": "code",
      "metadata": {
        "id": "9UBdwoCw1ftJ",
        "outputId": "0ff4c130-416a-4eed-adb8-2606f98b47c5",
        "colab": {
          "base_uri": "https://localhost:8080/",
          "height": 34
        }
      },
      "source": [
        "print(\"R: {0:.2f}\".format(metrics.mutual_info_score(y_test, cluster_preds)))"
      ],
      "execution_count": 228,
      "outputs": [
        {
          "output_type": "stream",
          "text": [
            "R: 0.53\n"
          ],
          "name": "stdout"
        }
      ]
    }
  ]
}