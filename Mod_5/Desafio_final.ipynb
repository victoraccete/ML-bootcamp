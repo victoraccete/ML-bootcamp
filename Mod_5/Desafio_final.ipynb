{
  "nbformat": 4,
  "nbformat_minor": 0,
  "metadata": {
    "colab": {
      "name": "Desafio final.ipynb",
      "provenance": [],
      "authorship_tag": "ABX9TyM8aSdgFoefENeaurTfvlDh",
      "include_colab_link": true
    },
    "kernelspec": {
      "name": "python3",
      "display_name": "Python 3"
    }
  },
  "cells": [
    {
      "cell_type": "markdown",
      "metadata": {
        "id": "view-in-github",
        "colab_type": "text"
      },
      "source": [
        "<a href=\"https://colab.research.google.com/github/victoraccete/ML-bootcamp/blob/master/Mod_5/Desafio_final.ipynb\" target=\"_parent\"><img src=\"https://colab.research.google.com/assets/colab-badge.svg\" alt=\"Open In Colab\"/></a>"
      ]
    },
    {
      "cell_type": "code",
      "metadata": {
        "id": "rwLN8oGHEg5k",
        "outputId": "03ae18d7-36e2-4d0a-c6a1-bb35b1c060d9",
        "colab": {
          "base_uri": "https://localhost:8080/",
          "height": 204
        }
      },
      "source": [
        "import pandas as pd\n",
        "cars = pd.read_csv('https://raw.githubusercontent.com/victoraccete/ML-bootcamp/master/Mod_5/cars.csv')\n",
        "cars.head()"
      ],
      "execution_count": null,
      "outputs": [
        {
          "output_type": "execute_result",
          "data": {
            "text/html": [
              "<div>\n",
              "<style scoped>\n",
              "    .dataframe tbody tr th:only-of-type {\n",
              "        vertical-align: middle;\n",
              "    }\n",
              "\n",
              "    .dataframe tbody tr th {\n",
              "        vertical-align: top;\n",
              "    }\n",
              "\n",
              "    .dataframe thead th {\n",
              "        text-align: right;\n",
              "    }\n",
              "</style>\n",
              "<table border=\"1\" class=\"dataframe\">\n",
              "  <thead>\n",
              "    <tr style=\"text-align: right;\">\n",
              "      <th></th>\n",
              "      <th>mpg</th>\n",
              "      <th>cylinders</th>\n",
              "      <th>cubicinches</th>\n",
              "      <th>hp</th>\n",
              "      <th>weightlbs</th>\n",
              "      <th>time-to-60</th>\n",
              "      <th>year</th>\n",
              "      <th>brand</th>\n",
              "    </tr>\n",
              "  </thead>\n",
              "  <tbody>\n",
              "    <tr>\n",
              "      <th>0</th>\n",
              "      <td>14.0</td>\n",
              "      <td>8</td>\n",
              "      <td>350</td>\n",
              "      <td>165</td>\n",
              "      <td>4209</td>\n",
              "      <td>12</td>\n",
              "      <td>1972</td>\n",
              "      <td>US.</td>\n",
              "    </tr>\n",
              "    <tr>\n",
              "      <th>1</th>\n",
              "      <td>31.9</td>\n",
              "      <td>4</td>\n",
              "      <td>89</td>\n",
              "      <td>71</td>\n",
              "      <td>1925</td>\n",
              "      <td>14</td>\n",
              "      <td>1980</td>\n",
              "      <td>Europe.</td>\n",
              "    </tr>\n",
              "    <tr>\n",
              "      <th>2</th>\n",
              "      <td>17.0</td>\n",
              "      <td>8</td>\n",
              "      <td>302</td>\n",
              "      <td>140</td>\n",
              "      <td>3449</td>\n",
              "      <td>11</td>\n",
              "      <td>1971</td>\n",
              "      <td>US.</td>\n",
              "    </tr>\n",
              "    <tr>\n",
              "      <th>3</th>\n",
              "      <td>15.0</td>\n",
              "      <td>8</td>\n",
              "      <td>400</td>\n",
              "      <td>150</td>\n",
              "      <td>3761</td>\n",
              "      <td>10</td>\n",
              "      <td>1971</td>\n",
              "      <td>US.</td>\n",
              "    </tr>\n",
              "    <tr>\n",
              "      <th>4</th>\n",
              "      <td>30.5</td>\n",
              "      <td>4</td>\n",
              "      <td>98</td>\n",
              "      <td>63</td>\n",
              "      <td>2051</td>\n",
              "      <td>17</td>\n",
              "      <td>1978</td>\n",
              "      <td>US.</td>\n",
              "    </tr>\n",
              "  </tbody>\n",
              "</table>\n",
              "</div>"
            ],
            "text/plain": [
              "    mpg  cylinders cubicinches   hp weightlbs  time-to-60  year     brand\n",
              "0  14.0          8         350  165      4209          12  1972       US.\n",
              "1  31.9          4          89   71      1925          14  1980   Europe.\n",
              "2  17.0          8         302  140      3449          11  1971       US.\n",
              "3  15.0          8         400  150      3761          10  1971       US.\n",
              "4  30.5          4          98   63      2051          17  1978       US."
            ]
          },
          "metadata": {
            "tags": []
          },
          "execution_count": 1
        }
      ]
    },
    {
      "cell_type": "markdown",
      "metadata": {
        "id": "qJmS3y-bmGm3"
      },
      "source": [
        "## Enunciado\n",
        "Utilize as variáveis:  \n",
        "```['cylinders' ,'cubicinches' ,'hp' ,'weightlbs' ,'timeto-60']``` \n",
        "\n",
        "E as definições:   \n",
        "```\n",
        "normaliza = StandardScaler() #objeto para a normalização\n",
        "pca = PCA(n_components=7)\n",
        "KMeans(n_clusters=3,random_state=42)\n",
        "train_test_split(entradas_arvore, saidas_arvore,\n",
        "test_size=0.30,random_state=42)\n",
        "DecisionTreeClassifier(random_state=42)\n",
        "LogisticRegression(random_state=42)\n",
        "```\n",
        "A saída deve ser a classificação de eficiência do veículo.\n"
      ]
    },
    {
      "cell_type": "markdown",
      "metadata": {
        "id": "8iTu4UienlJv"
      },
      "source": [
        "## Perguntas\n",
        "### Pergunta 1\n",
        "Após a utilização da biblioteca pandas para a leitura dos dados sobre os valores lidos, é CORRETO afirmar que:\n",
        "___\n",
        "a. Existem apenas duas características do tipo “string”.  \n",
        "b. Os valores nulos encontrados estão presentes apenas no variável “cubicinches”.  \n",
        "c. Não foram encontrados valores nulos após a leitura dos dados.  \n",
        "d. Os valores nulos estão presentes apenas para a saída dos dados."
      ]
    },
    {
      "cell_type": "code",
      "metadata": {
        "id": "gYjD4VLOqOnj",
        "outputId": "40b14bee-b1d0-47c2-f9d4-8dc76637d37d",
        "colab": {
          "base_uri": "https://localhost:8080/"
        }
      },
      "source": [
        "cars.info()"
      ],
      "execution_count": null,
      "outputs": [
        {
          "output_type": "stream",
          "text": [
            "<class 'pandas.core.frame.DataFrame'>\n",
            "RangeIndex: 261 entries, 0 to 260\n",
            "Data columns (total 8 columns):\n",
            " #   Column       Non-Null Count  Dtype  \n",
            "---  ------       --------------  -----  \n",
            " 0   mpg          261 non-null    float64\n",
            " 1   cylinders    261 non-null    int64  \n",
            " 2   cubicinches  261 non-null    object \n",
            " 3   hp           261 non-null    int64  \n",
            " 4   weightlbs    261 non-null    object \n",
            " 5   time-to-60   261 non-null    int64  \n",
            " 6   year         261 non-null    int64  \n",
            " 7   brand        261 non-null    object \n",
            "dtypes: float64(1), int64(4), object(3)\n",
            "memory usage: 16.4+ KB\n"
          ],
          "name": "stdout"
        }
      ]
    },
    {
      "cell_type": "markdown",
      "metadata": {
        "id": "6OdC7P43ZumX"
      },
      "source": [
        "**R: c. Não foram encontrados valores nulos após a leitura dos dados.**"
      ]
    },
    {
      "cell_type": "markdown",
      "metadata": {
        "id": "e2ZALW-Anznt"
      },
      "source": [
        "### Pergunta 2\n",
        "Realize a transformação das colunas “cubicinches” e “weightlbs” do tipo “string” para o tipo numérico utilizando o pd.to_numeric(), utilizando o parâmetro  errors='coerce'. Após essa transformação, é CORRETO afirmar:\n",
        "___\n",
        "a. Após essa transformação não ocorreu a introdução de valores nulos.  \n",
        "b. Após a transformação não ocorre mudanças no tipo de variáveis.  \n",
        "c. Essa transformação deve ser realizada apenas para valores nulos.  \n",
        "d. Essa transformação adiciona valores nulos ao nosso dataset"
      ]
    },
    {
      "cell_type": "code",
      "metadata": {
        "id": "L1iYZ616qPF3"
      },
      "source": [
        "# help(pd.to_numeric)"
      ],
      "execution_count": null,
      "outputs": []
    },
    {
      "cell_type": "code",
      "metadata": {
        "id": "dy6hPNUKdMrf",
        "outputId": "5fbadd97-ff3c-4b6e-e4aa-cefcf634a465",
        "colab": {
          "base_uri": "https://localhost:8080/"
        }
      },
      "source": [
        "print(\"Before converting to numeric: \")\n",
        "print(cars.cubicinches.isna().sum())\n",
        "print(cars.weightlbs.isna().sum())"
      ],
      "execution_count": null,
      "outputs": [
        {
          "output_type": "stream",
          "text": [
            "Before converting to numeric: \n",
            "0\n",
            "0\n"
          ],
          "name": "stdout"
        }
      ]
    },
    {
      "cell_type": "code",
      "metadata": {
        "id": "-64lmY38bo5C",
        "outputId": "5f00044c-4b4a-45f1-8e63-a2f03ab76f1d",
        "colab": {
          "base_uri": "https://localhost:8080/"
        }
      },
      "source": [
        "cars.cubicinches = pd.to_numeric(cars.cubicinches, errors='coerce')\n",
        "cars.weightlbs = pd.to_numeric(cars.weightlbs, errors='coerce')\n",
        "print(\"After converting to numeric: \")\n",
        "print(cars.cubicinches.isna().sum())\n",
        "print(cars.weightlbs.isna().sum())"
      ],
      "execution_count": null,
      "outputs": [
        {
          "output_type": "stream",
          "text": [
            "After converting to numeric: \n",
            "2\n",
            "3\n"
          ],
          "name": "stdout"
        }
      ]
    },
    {
      "cell_type": "code",
      "metadata": {
        "id": "MhZkWR9Gde92",
        "outputId": "9efcb2c9-9f7b-45bf-a046-dcd471b6f5c7",
        "colab": {
          "base_uri": "https://localhost:8080/"
        }
      },
      "source": [
        "cars.info()"
      ],
      "execution_count": null,
      "outputs": [
        {
          "output_type": "stream",
          "text": [
            "<class 'pandas.core.frame.DataFrame'>\n",
            "RangeIndex: 261 entries, 0 to 260\n",
            "Data columns (total 8 columns):\n",
            " #   Column       Non-Null Count  Dtype  \n",
            "---  ------       --------------  -----  \n",
            " 0   mpg          261 non-null    float64\n",
            " 1   cylinders    261 non-null    int64  \n",
            " 2   cubicinches  259 non-null    float64\n",
            " 3   hp           261 non-null    int64  \n",
            " 4   weightlbs    258 non-null    float64\n",
            " 5   time-to-60   261 non-null    int64  \n",
            " 6   year         261 non-null    int64  \n",
            " 7   brand        261 non-null    object \n",
            "dtypes: float64(3), int64(4), object(1)\n",
            "memory usage: 16.4+ KB\n"
          ],
          "name": "stdout"
        }
      ]
    },
    {
      "cell_type": "markdown",
      "metadata": {
        "id": "R-qGj5vRdmIv"
      },
      "source": [
        "**R: d. Essa transformação adiciona valores nulos ao nosso dataset**"
      ]
    },
    {
      "cell_type": "markdown",
      "metadata": {
        "id": "z2Z7_oUCoM_7"
      },
      "source": [
        "### Pergunta 3\n",
        "Indique quais eram os índices dos valores presentes no dataset que “forçaram” o pandas a compreender a variável “cubicinches” como string.\n",
        "___\n",
        "a. 38 e 120.  \n",
        "b. 40 e 180.  \n",
        "c. 114 e 180.  \n",
        "d. 33 e 172."
      ]
    },
    {
      "cell_type": "code",
      "metadata": {
        "id": "vUq7LR9eqPi_",
        "outputId": "913ef172-db34-4e91-db87-559b1cd9466a",
        "colab": {
          "base_uri": "https://localhost:8080/"
        }
      },
      "source": [
        "cars[cars.cubicinches.isna()].index"
      ],
      "execution_count": null,
      "outputs": [
        {
          "output_type": "execute_result",
          "data": {
            "text/plain": [
              "Int64Index([40, 180], dtype='int64')"
            ]
          },
          "metadata": {
            "tags": []
          },
          "execution_count": 7
        }
      ]
    },
    {
      "cell_type": "markdown",
      "metadata": {
        "id": "S88z2za7hIS8"
      },
      "source": [
        "**R: b. 40 e 180.**"
      ]
    },
    {
      "cell_type": "markdown",
      "metadata": {
        "id": "TrSJimnJoTad"
      },
      "source": [
        "### Pergunta 4\n",
        "Após a transformação das variáveis “string” para os valores numéricos, quantos valores nulos (células no dataframe) passaram a existir no dataset?\n",
        "___\n",
        "a. 5.  \n",
        "b. 3.  \n",
        "c. 6.  \n",
        "d. 2."
      ]
    },
    {
      "cell_type": "code",
      "metadata": {
        "id": "4zFDEdNEqQBN",
        "outputId": "00bee0db-2129-4ca1-e01f-1c0d40a0df7f",
        "colab": {
          "base_uri": "https://localhost:8080/"
        }
      },
      "source": [
        "cars.isna().sum()"
      ],
      "execution_count": null,
      "outputs": [
        {
          "output_type": "execute_result",
          "data": {
            "text/plain": [
              "mpg            0\n",
              "cylinders      0\n",
              "cubicinches    2\n",
              "hp             0\n",
              "weightlbs      3\n",
              "time-to-60     0\n",
              "year           0\n",
              "brand          0\n",
              "dtype: int64"
            ]
          },
          "metadata": {
            "tags": []
          },
          "execution_count": 8
        }
      ]
    },
    {
      "cell_type": "code",
      "metadata": {
        "id": "l6DzLuS0hkHb",
        "outputId": "d842d057-f8c4-4b33-cde3-58e3f14f2a80",
        "colab": {
          "base_uri": "https://localhost:8080/"
        }
      },
      "source": [
        "print('R: a.', cars.isna().sum().sum())"
      ],
      "execution_count": null,
      "outputs": [
        {
          "output_type": "stream",
          "text": [
            "R: a. 5\n"
          ],
          "name": "stdout"
        }
      ]
    },
    {
      "cell_type": "markdown",
      "metadata": {
        "id": "xlC4YUPuoePs"
      },
      "source": [
        "### Pergunta 5\n",
        "Substitua os valores nulos introduzidos no dataset, após a transformação, pelo valor médio das colunas. Qual é o novo valor médio da coluna “weightlbs”?\n",
        "___\n",
        "a. 1370,82.  \n",
        "b. 1367,13.  \n",
        "c. 3009,83.  \n",
        "d. 3212,48."
      ]
    },
    {
      "cell_type": "code",
      "metadata": {
        "id": "1PoVvfdMqQfK",
        "outputId": "d2fe3edc-f69d-4bc7-abd8-09744efd2cba",
        "colab": {
          "base_uri": "https://localhost:8080/"
        }
      },
      "source": [
        "cars = cars.fillna(cars.mean())\n",
        "cars.info()"
      ],
      "execution_count": null,
      "outputs": [
        {
          "output_type": "stream",
          "text": [
            "<class 'pandas.core.frame.DataFrame'>\n",
            "RangeIndex: 261 entries, 0 to 260\n",
            "Data columns (total 8 columns):\n",
            " #   Column       Non-Null Count  Dtype  \n",
            "---  ------       --------------  -----  \n",
            " 0   mpg          261 non-null    float64\n",
            " 1   cylinders    261 non-null    int64  \n",
            " 2   cubicinches  261 non-null    float64\n",
            " 3   hp           261 non-null    int64  \n",
            " 4   weightlbs    261 non-null    float64\n",
            " 5   time-to-60   261 non-null    int64  \n",
            " 6   year         261 non-null    int64  \n",
            " 7   brand        261 non-null    object \n",
            "dtypes: float64(3), int64(4), object(1)\n",
            "memory usage: 16.4+ KB\n"
          ],
          "name": "stdout"
        }
      ]
    },
    {
      "cell_type": "code",
      "metadata": {
        "id": "vJKGtu8OyHuK",
        "outputId": "87d962c6-10cf-45e1-f05e-bc14d0a65b13",
        "colab": {
          "base_uri": "https://localhost:8080/"
        }
      },
      "source": [
        "print('R: c.', cars.weightlbs.mean())"
      ],
      "execution_count": null,
      "outputs": [
        {
          "output_type": "stream",
          "text": [
            "R: c. 3009.8333333333335\n"
          ],
          "name": "stdout"
        }
      ]
    },
    {
      "cell_type": "markdown",
      "metadata": {
        "id": "3z8kMaj1oolz"
      },
      "source": [
        "### Pergunta 6\n",
        "Após substituir os valores nulos pela média das colunas, selecione as colunas ```['mpg', 'cylinders', 'cubicinches', 'hp', 'weightlbs', 'time-to-60', 'year']```. Qual é o valor da mediana para a característica 'mpg'?\n",
        "___\n",
        "a. 31,4.  \n",
        "b. 14,8.  \n",
        "c. 26,3.  \n",
        "d. 22,0."
      ]
    },
    {
      "cell_type": "code",
      "metadata": {
        "id": "l6unus_hqQ2T",
        "outputId": "fe089c4a-f811-4893-f3d6-2f145aab07b4",
        "colab": {
          "base_uri": "https://localhost:8080/"
        }
      },
      "source": [
        "cars = cars.drop(columns=['brand'])\n",
        "print('R: d.', cars.mpg.median())"
      ],
      "execution_count": null,
      "outputs": [
        {
          "output_type": "stream",
          "text": [
            "R: d. 22.0\n"
          ],
          "name": "stdout"
        }
      ]
    },
    {
      "cell_type": "markdown",
      "metadata": {
        "id": "G4MDMypAo1_H"
      },
      "source": [
        "### Pergunta 7\n",
        "Qual é a afirmação CORRETA sobre o valor de 14,00 para a variável “time-to-60”?\n",
        "___\n",
        "a. 25% dos valores de “time-to-60” são superiores ou iguais a 14,00.  \n",
        "b. 75% dos dados são maiores que o valor de 14,00.  \n",
        "c. Apenas por esse valor é possível afirmar que existe uma menor dispersão entre valores inferiores a 14,00.  \n",
        "d. Como esse valor representa a mediana para essa variável, é possível dizer que 50% dos valores são superiores a 14,00."
      ]
    },
    {
      "cell_type": "code",
      "metadata": {
        "id": "N9n-ULkEqRSR",
        "outputId": "5528cbe5-6e45-4397-f012-45c23254a2c5",
        "colab": {
          "base_uri": "https://localhost:8080/",
          "height": 297
        }
      },
      "source": [
        "cars.describe()"
      ],
      "execution_count": null,
      "outputs": [
        {
          "output_type": "execute_result",
          "data": {
            "text/html": [
              "<div>\n",
              "<style scoped>\n",
              "    .dataframe tbody tr th:only-of-type {\n",
              "        vertical-align: middle;\n",
              "    }\n",
              "\n",
              "    .dataframe tbody tr th {\n",
              "        vertical-align: top;\n",
              "    }\n",
              "\n",
              "    .dataframe thead th {\n",
              "        text-align: right;\n",
              "    }\n",
              "</style>\n",
              "<table border=\"1\" class=\"dataframe\">\n",
              "  <thead>\n",
              "    <tr style=\"text-align: right;\">\n",
              "      <th></th>\n",
              "      <th>mpg</th>\n",
              "      <th>cylinders</th>\n",
              "      <th>cubicinches</th>\n",
              "      <th>hp</th>\n",
              "      <th>weightlbs</th>\n",
              "      <th>time-to-60</th>\n",
              "      <th>year</th>\n",
              "    </tr>\n",
              "  </thead>\n",
              "  <tbody>\n",
              "    <tr>\n",
              "      <th>count</th>\n",
              "      <td>261.000000</td>\n",
              "      <td>261.000000</td>\n",
              "      <td>261.000000</td>\n",
              "      <td>261.000000</td>\n",
              "      <td>261.000000</td>\n",
              "      <td>261.000000</td>\n",
              "      <td>261.000000</td>\n",
              "    </tr>\n",
              "    <tr>\n",
              "      <th>mean</th>\n",
              "      <td>23.144828</td>\n",
              "      <td>5.590038</td>\n",
              "      <td>200.918919</td>\n",
              "      <td>106.360153</td>\n",
              "      <td>3009.833333</td>\n",
              "      <td>15.547893</td>\n",
              "      <td>1976.819923</td>\n",
              "    </tr>\n",
              "    <tr>\n",
              "      <th>std</th>\n",
              "      <td>7.823570</td>\n",
              "      <td>1.733310</td>\n",
              "      <td>108.837269</td>\n",
              "      <td>40.499959</td>\n",
              "      <td>849.097575</td>\n",
              "      <td>2.910625</td>\n",
              "      <td>3.637696</td>\n",
              "    </tr>\n",
              "    <tr>\n",
              "      <th>min</th>\n",
              "      <td>10.000000</td>\n",
              "      <td>3.000000</td>\n",
              "      <td>68.000000</td>\n",
              "      <td>46.000000</td>\n",
              "      <td>1613.000000</td>\n",
              "      <td>8.000000</td>\n",
              "      <td>1971.000000</td>\n",
              "    </tr>\n",
              "    <tr>\n",
              "      <th>25%</th>\n",
              "      <td>16.900000</td>\n",
              "      <td>4.000000</td>\n",
              "      <td>101.000000</td>\n",
              "      <td>75.000000</td>\n",
              "      <td>2254.000000</td>\n",
              "      <td>14.000000</td>\n",
              "      <td>1974.000000</td>\n",
              "    </tr>\n",
              "    <tr>\n",
              "      <th>50%</th>\n",
              "      <td>22.000000</td>\n",
              "      <td>6.000000</td>\n",
              "      <td>156.000000</td>\n",
              "      <td>95.000000</td>\n",
              "      <td>2904.000000</td>\n",
              "      <td>16.000000</td>\n",
              "      <td>1977.000000</td>\n",
              "    </tr>\n",
              "    <tr>\n",
              "      <th>75%</th>\n",
              "      <td>28.800000</td>\n",
              "      <td>8.000000</td>\n",
              "      <td>302.000000</td>\n",
              "      <td>138.000000</td>\n",
              "      <td>3664.000000</td>\n",
              "      <td>17.000000</td>\n",
              "      <td>1980.000000</td>\n",
              "    </tr>\n",
              "    <tr>\n",
              "      <th>max</th>\n",
              "      <td>46.600000</td>\n",
              "      <td>8.000000</td>\n",
              "      <td>455.000000</td>\n",
              "      <td>230.000000</td>\n",
              "      <td>4997.000000</td>\n",
              "      <td>25.000000</td>\n",
              "      <td>1983.000000</td>\n",
              "    </tr>\n",
              "  </tbody>\n",
              "</table>\n",
              "</div>"
            ],
            "text/plain": [
              "              mpg   cylinders  ...  time-to-60         year\n",
              "count  261.000000  261.000000  ...  261.000000   261.000000\n",
              "mean    23.144828    5.590038  ...   15.547893  1976.819923\n",
              "std      7.823570    1.733310  ...    2.910625     3.637696\n",
              "min     10.000000    3.000000  ...    8.000000  1971.000000\n",
              "25%     16.900000    4.000000  ...   14.000000  1974.000000\n",
              "50%     22.000000    6.000000  ...   16.000000  1977.000000\n",
              "75%     28.800000    8.000000  ...   17.000000  1980.000000\n",
              "max     46.600000    8.000000  ...   25.000000  1983.000000\n",
              "\n",
              "[8 rows x 7 columns]"
            ]
          },
          "metadata": {
            "tags": []
          },
          "execution_count": 13
        }
      ]
    },
    {
      "cell_type": "markdown",
      "metadata": {
        "id": "D-9PM1iBzdv_"
      },
      "source": [
        "**R: b. 75% dos dados são maiores que o valor de 14,00.**"
      ]
    },
    {
      "cell_type": "markdown",
      "metadata": {
        "id": "VsPPd1J2o75V"
      },
      "source": [
        "### Pergunta 8\n",
        "Sobre o coeficiente de correlação de Pearson entre as variáveis “cylinders” e “mpg”, é correto afirmar, EXCETO:\n",
        "___\n",
        "a. Mesmo não sendo igual a 1, é possível dizer que à medida em que a variável “cylinders” aumenta, a variável “mpg” também aumenta na mesma direção.  \n",
        "b. Quando um coeficiente de correlação de Pearson é igual a 1, o coeficiente de determinação também será igual a 1.  \n",
        "c. Caso fosse calculado o coeficiente de determinação entre essas duas variáveis, o valor seria, aproximadamente, 0,6.  \n",
        "d. Mesmo não sendo igual a 1, é possível dizer que à medida que a variável “cylinders” aumenta, a variável “mpg” reduz em uma direção oposta."
      ]
    },
    {
      "cell_type": "code",
      "metadata": {
        "id": "iI6t-e1jqRwm",
        "outputId": "30c742bb-4924-4177-a03f-9f2dc792ba28",
        "colab": {
          "base_uri": "https://localhost:8080/"
        }
      },
      "source": [
        "#print(cars.corr(method='pearson'))\n",
        "print(cars.cylinders.corr(cars.mpg, method='pearson')**2)"
      ],
      "execution_count": null,
      "outputs": [
        {
          "output_type": "stream",
          "text": [
            "0.6032782423312325\n"
          ],
          "name": "stdout"
        }
      ]
    },
    {
      "cell_type": "markdown",
      "metadata": {
        "id": "68ow-9D53rHc"
      },
      "source": [
        "**Obs: ele quer a incorreta.**  \n",
        "**R: a. Mesmo não sendo igual a 1, é possível dizer que à medida em que a variável “cylinders” aumenta, a variável “mpg” também aumenta na mesma direção.**"
      ]
    },
    {
      "cell_type": "markdown",
      "metadata": {
        "id": "GcijECdXpFOx"
      },
      "source": [
        "### Pergunta 9\n",
        "Sobre o boxplot da variável “hp”, é correto afirmar, EXCETO:\n",
        "___\n",
        "a. Cada um dos quartis possui a mesma quantidade de valores para a variável “hp”.  \n",
        "b. Existe uma maior dispersão no segundo quartil quando comparamos com o terceiro.  \n",
        "c. Não foi identificada a presença de possíveis outliers nos dados.  \n",
        "d. Através do boxplot, é possível perceber que a mediana encontra-se entre os valores de 80 e 100."
      ]
    },
    {
      "cell_type": "code",
      "metadata": {
        "id": "g3q_PDMmqSJ6",
        "outputId": "b98017e3-5d2b-457d-f350-fae6b88ce730",
        "colab": {
          "base_uri": "https://localhost:8080/",
          "height": 282
        }
      },
      "source": [
        "import seaborn as sns\n",
        "sns.boxplot(data=cars.hp)"
      ],
      "execution_count": null,
      "outputs": [
        {
          "output_type": "execute_result",
          "data": {
            "text/plain": [
              "<matplotlib.axes._subplots.AxesSubplot at 0x7f2fd56fc400>"
            ]
          },
          "metadata": {
            "tags": []
          },
          "execution_count": 15
        },
        {
          "output_type": "display_data",
          "data": {
            "image/png": "[encoded data removed]",
            "text/plain": [
              "<Figure size 432x288 with 1 Axes>"
            ]
          },
          "metadata": {
            "tags": [],
            "needs_background": "light"
          }
        }
      ]
    },
    {
      "cell_type": "markdown",
      "metadata": {
        "id": "CaCfdBRh5NGP"
      },
      "source": [
        "**Obs: ele quer a incorreta.**  \n",
        "**R: b. Existe uma maior dispersão no segundo quartil quando comparamos com o terceiro.**"
      ]
    },
    {
      "cell_type": "markdown",
      "metadata": {
        "id": "-ylwTdvVpOXj"
      },
      "source": [
        "### Pergunta 10\n",
        "Após normalizado, utilizando a função StandardScaler(), qual é o maior valor para a variável “hp”? \n",
        "___\n",
        "a. 1,23  \n",
        "b. 3,06  \n",
        "c. 1,18  \n",
        "d. 9,01"
      ]
    },
    {
      "cell_type": "code",
      "metadata": {
        "id": "1_MLp-zbqSqG",
        "outputId": "c2b4798e-6982-411e-dd1c-3911c1b91e39",
        "colab": {
          "base_uri": "https://localhost:8080/"
        }
      },
      "source": [
        "from sklearn.preprocessing import StandardScaler\n",
        "\n",
        "normalize = StandardScaler()\n",
        "scaler = normalize.fit(cars.values)\n",
        "normalized_cars = scaler.transform(cars.values)\n",
        "normalized_cars = pd.DataFrame(normalized_cars, columns=cars.columns)\n",
        "normalized_cars.hp.max()"
      ],
      "execution_count": null,
      "outputs": [
        {
          "output_type": "execute_result",
          "data": {
            "text/plain": [
              "3.05870398977614"
            ]
          },
          "metadata": {
            "tags": []
          },
          "execution_count": 16
        }
      ]
    },
    {
      "cell_type": "markdown",
      "metadata": {
        "id": "BUUPfdGFCzIV"
      },
      "source": [
        "**R: b. 3,06**"
      ]
    },
    {
      "cell_type": "markdown",
      "metadata": {
        "id": "d8jHEs5apWPN"
      },
      "source": [
        "### Pergunta 11\n",
        "Aplicando o PCA, conforme a definição acima, qual é o valor da variância explicada com pela primeira componente principal?\n",
        "___\n",
        "a. 92%.  \n",
        "b. 13%.  \n",
        "c. 34%.  \n",
        "d. 72%."
      ]
    },
    {
      "cell_type": "code",
      "metadata": {
        "id": "cG7vFgfgqTGL",
        "outputId": "7a37193e-5729-4da8-f58f-51f7239f5576",
        "colab": {
          "base_uri": "https://localhost:8080/"
        }
      },
      "source": [
        "from sklearn.decomposition import PCA\n",
        "\n",
        "pca = PCA(n_components=7)\n",
        "components = pca.fit_transform(normalized_cars)\n",
        "pca.explained_variance_ratio_[0]"
      ],
      "execution_count": null,
      "outputs": [
        {
          "output_type": "execute_result",
          "data": {
            "text/plain": [
              "0.7237134885896341"
            ]
          },
          "metadata": {
            "tags": []
          },
          "execution_count": 17
        }
      ]
    },
    {
      "cell_type": "markdown",
      "metadata": {
        "id": "qnAjdUBnEgWY"
      },
      "source": [
        "**R: d. 72%.**"
      ]
    },
    {
      "cell_type": "markdown",
      "metadata": {
        "id": "sOazGLLHpdYC"
      },
      "source": [
        "### Pergunta 12\n",
        "Utilize os três primeiros componentes principais para construir o K-means com um número de 3 clusters. Sobre os clusters, é INCORRETO afirmar que:\n",
        "___\n",
        "a. Cada um dos clusters possui características próprias.  \n",
        "b. Os centroides, utilizando apenas as 3 componentes principais, possuem 3 dimensões.  \n",
        "c. Todos os clusters possuem a mesma quantidade de elementos.  \n",
        "d. Existem 3 centroides após a aplicação da clusterização."
      ]
    },
    {
      "cell_type": "code",
      "metadata": {
        "id": "8BM2PShqqTec",
        "outputId": "267f900d-2896-4a33-a8cc-93dd970b0ba8",
        "colab": {
          "base_uri": "https://localhost:8080/",
          "height": 204
        }
      },
      "source": [
        "pca_df = pd.DataFrame(components)\n",
        "pca_df = pca_df.iloc[:, 0:3]\n",
        "pca_df.head()"
      ],
      "execution_count": null,
      "outputs": [
        {
          "output_type": "execute_result",
          "data": {
            "text/html": [
              "<div>\n",
              "<style scoped>\n",
              "    .dataframe tbody tr th:only-of-type {\n",
              "        vertical-align: middle;\n",
              "    }\n",
              "\n",
              "    .dataframe tbody tr th {\n",
              "        vertical-align: top;\n",
              "    }\n",
              "\n",
              "    .dataframe thead th {\n",
              "        text-align: right;\n",
              "    }\n",
              "</style>\n",
              "<table border=\"1\" class=\"dataframe\">\n",
              "  <thead>\n",
              "    <tr style=\"text-align: right;\">\n",
              "      <th></th>\n",
              "      <th>0</th>\n",
              "      <th>1</th>\n",
              "      <th>2</th>\n",
              "    </tr>\n",
              "  </thead>\n",
              "  <tbody>\n",
              "    <tr>\n",
              "      <th>0</th>\n",
              "      <td>3.485219</td>\n",
              "      <td>0.526326</td>\n",
              "      <td>-0.139738</td>\n",
              "    </tr>\n",
              "    <tr>\n",
              "      <th>1</th>\n",
              "      <td>-2.176912</td>\n",
              "      <td>-0.285424</td>\n",
              "      <td>-1.304613</td>\n",
              "    </tr>\n",
              "    <tr>\n",
              "      <th>2</th>\n",
              "      <td>2.684973</td>\n",
              "      <td>1.046946</td>\n",
              "      <td>-0.732156</td>\n",
              "    </tr>\n",
              "    <tr>\n",
              "      <th>3</th>\n",
              "      <td>3.534648</td>\n",
              "      <td>0.847619</td>\n",
              "      <td>-0.801334</td>\n",
              "    </tr>\n",
              "    <tr>\n",
              "      <th>4</th>\n",
              "      <td>-2.299222</td>\n",
              "      <td>0.194808</td>\n",
              "      <td>-0.221704</td>\n",
              "    </tr>\n",
              "  </tbody>\n",
              "</table>\n",
              "</div>"
            ],
            "text/plain": [
              "          0         1         2\n",
              "0  3.485219  0.526326 -0.139738\n",
              "1 -2.176912 -0.285424 -1.304613\n",
              "2  2.684973  1.046946 -0.732156\n",
              "3  3.534648  0.847619 -0.801334\n",
              "4 -2.299222  0.194808 -0.221704"
            ]
          },
          "metadata": {
            "tags": []
          },
          "execution_count": 18
        }
      ]
    },
    {
      "cell_type": "code",
      "metadata": {
        "id": "0EfLw_fRHC8z",
        "outputId": "d9e2e624-4484-4b5c-ff80-ae13e36b6ff0",
        "colab": {
          "base_uri": "https://localhost:8080/"
        }
      },
      "source": [
        "from sklearn.cluster import KMeans\n",
        "import numpy as np\n",
        "\n",
        "kmeans = KMeans(n_clusters=3, random_state=42)\n",
        "kmeans.fit(pca_df)\n",
        "np.unique(kmeans.labels_, return_counts=True)"
      ],
      "execution_count": null,
      "outputs": [
        {
          "output_type": "execute_result",
          "data": {
            "text/plain": [
              "(array([0, 1, 2], dtype=int32), array([ 77,  75, 109]))"
            ]
          },
          "metadata": {
            "tags": []
          },
          "execution_count": 19
        }
      ]
    },
    {
      "cell_type": "markdown",
      "metadata": {
        "id": "bJ4-aKBvI2W9"
      },
      "source": [
        "**R: c. Todos os clusters possuem a mesma quantidade de elementos.**"
      ]
    },
    {
      "cell_type": "markdown",
      "metadata": {
        "id": "Ts3jfuzIpkCK"
      },
      "source": [
        "### Pergunta 13\n",
        "Após todo o processamento realizado nos itens anteriores, crie uma coluna que contenha a variável de eficiência do veículo. Veículos que percorrem mais de 25 milhas com um galão (“mpg”>25) devem ser considerados eficientes. Utilize as colunas ```['cylinders'    ,'cubicinches' ,'hp' ,'weightlbs','time-to-60']``` como entradas e como saída a coluna de eficiência criada.\n",
        "\n",
        "Utilizando a árvore de decisão como mostrado, qual é a acurácia do modelo?\n",
        "___\n",
        "a. Aproximadamente, 0,63.  \n",
        "b. Aproximadamente, 0,70.  \n",
        "c. Aproximadamente, 0,87.  \n",
        "d. Aproximadamente, 0,99."
      ]
    },
    {
      "cell_type": "code",
      "metadata": {
        "id": "-c0TtZb0KTti",
        "outputId": "395335da-0e36-4568-aad5-f20c8b9be116",
        "colab": {
          "base_uri": "https://localhost:8080/",
          "height": 204
        }
      },
      "source": [
        "normalized_cars['efficient'] = (cars['mpg'] > 25).astype(int)\n",
        "normalized_cars.head()"
      ],
      "execution_count": null,
      "outputs": [
        {
          "output_type": "execute_result",
          "data": {
            "text/html": [
              "<div>\n",
              "<style scoped>\n",
              "    .dataframe tbody tr th:only-of-type {\n",
              "        vertical-align: middle;\n",
              "    }\n",
              "\n",
              "    .dataframe tbody tr th {\n",
              "        vertical-align: top;\n",
              "    }\n",
              "\n",
              "    .dataframe thead th {\n",
              "        text-align: right;\n",
              "    }\n",
              "</style>\n",
              "<table border=\"1\" class=\"dataframe\">\n",
              "  <thead>\n",
              "    <tr style=\"text-align: right;\">\n",
              "      <th></th>\n",
              "      <th>mpg</th>\n",
              "      <th>cylinders</th>\n",
              "      <th>cubicinches</th>\n",
              "      <th>hp</th>\n",
              "      <th>weightlbs</th>\n",
              "      <th>time-to-60</th>\n",
              "      <th>year</th>\n",
              "      <th>efficient</th>\n",
              "    </tr>\n",
              "  </thead>\n",
              "  <tbody>\n",
              "    <tr>\n",
              "      <th>0</th>\n",
              "      <td>-1.171127</td>\n",
              "      <td>1.393053</td>\n",
              "      <td>1.372393</td>\n",
              "      <td>1.450681</td>\n",
              "      <td>1.414997</td>\n",
              "      <td>-1.221287</td>\n",
              "      <td>-1.327539</td>\n",
              "      <td>0</td>\n",
              "    </tr>\n",
              "    <tr>\n",
              "      <th>1</th>\n",
              "      <td>1.121226</td>\n",
              "      <td>-0.919105</td>\n",
              "      <td>-1.030290</td>\n",
              "      <td>-0.874768</td>\n",
              "      <td>-1.280086</td>\n",
              "      <td>-0.532829</td>\n",
              "      <td>0.875880</td>\n",
              "      <td>1</td>\n",
              "    </tr>\n",
              "    <tr>\n",
              "      <th>2</th>\n",
              "      <td>-0.786934</td>\n",
              "      <td>1.393053</td>\n",
              "      <td>0.930520</td>\n",
              "      <td>0.832210</td>\n",
              "      <td>0.518209</td>\n",
              "      <td>-1.565516</td>\n",
              "      <td>-1.602966</td>\n",
              "      <td>0</td>\n",
              "    </tr>\n",
              "    <tr>\n",
              "      <th>3</th>\n",
              "      <td>-1.043063</td>\n",
              "      <td>1.393053</td>\n",
              "      <td>1.832677</td>\n",
              "      <td>1.079598</td>\n",
              "      <td>0.886364</td>\n",
              "      <td>-1.909745</td>\n",
              "      <td>-1.602966</td>\n",
              "      <td>0</td>\n",
              "    </tr>\n",
              "    <tr>\n",
              "      <th>4</th>\n",
              "      <td>0.941936</td>\n",
              "      <td>-0.919105</td>\n",
              "      <td>-0.947439</td>\n",
              "      <td>-1.072679</td>\n",
              "      <td>-1.131408</td>\n",
              "      <td>0.499857</td>\n",
              "      <td>0.325025</td>\n",
              "      <td>1</td>\n",
              "    </tr>\n",
              "  </tbody>\n",
              "</table>\n",
              "</div>"
            ],
            "text/plain": [
              "        mpg  cylinders  cubicinches  ...  time-to-60      year  efficient\n",
              "0 -1.171127   1.393053     1.372393  ...   -1.221287 -1.327539          0\n",
              "1  1.121226  -0.919105    -1.030290  ...   -0.532829  0.875880          1\n",
              "2 -0.786934   1.393053     0.930520  ...   -1.565516 -1.602966          0\n",
              "3 -1.043063   1.393053     1.832677  ...   -1.909745 -1.602966          0\n",
              "4  0.941936  -0.919105    -0.947439  ...    0.499857  0.325025          1\n",
              "\n",
              "[5 rows x 8 columns]"
            ]
          },
          "metadata": {
            "tags": []
          },
          "execution_count": 20
        }
      ]
    },
    {
      "cell_type": "code",
      "metadata": {
        "id": "wD0fDLKNKz_H",
        "outputId": "be76715a-1e6a-430e-8b46-f5e69a6e64a5",
        "colab": {
          "base_uri": "https://localhost:8080/"
        }
      },
      "source": [
        "input = normalized_cars.drop(columns=['mpg', 'year', 'efficient']).values\n",
        "output = normalized_cars.iloc[:, -1].values\n",
        "print(input.shape)\n",
        "print(input)\n",
        "print(output.shape)\n",
        "print(output)"
      ],
      "execution_count": null,
      "outputs": [
        {
          "output_type": "stream",
          "text": [
            "(261, 5)\n",
            "[[ 1.39305285  1.37239295  1.45068065  1.41499703 -1.22128734]\n",
            " [-0.91910482 -1.03028992 -0.87476849 -1.28008557 -0.53282946]\n",
            " [ 1.39305285  0.93052024  0.83221013  0.51820947 -1.56551627]\n",
            " ...\n",
            " [ 0.23697401  0.28612253  0.13952316 -0.20630047 -0.18860053]\n",
            " [ 0.23697401  0.28612253 -0.15734269  0.32823211  0.15562841]\n",
            " [ 0.23697401  0.4518248  -0.03364859  0.40493105 -0.18860053]]\n",
            "(261,)\n",
            "[0 1 0 0 1 0 0 0 1 1 1 1 0 0 0 0 1 0 0 0 1 0 0 0 1 1 1 0 0 1 1 0 0 0 1 0 1\n",
            " 0 0 0 0 0 0 0 0 1 0 0 1 0 0 1 0 0 0 0 0 1 1 0 0 0 1 1 0 0 1 1 1 0 0 1 1 0\n",
            " 1 1 0 0 1 1 0 0 0 0 0 1 0 0 1 1 1 1 0 0 1 0 0 0 0 0 0 0 0 1 1 1 1 1 0 0 0\n",
            " 0 0 1 1 0 0 0 1 0 1 1 0 0 1 1 0 1 0 1 1 1 0 0 0 0 1 0 0 0 1 1 1 1 0 0 0 1\n",
            " 0 0 1 1 0 0 1 0 0 1 0 0 0 0 0 0 0 0 0 1 0 1 1 0 1 1 0 1 0 0 0 1 0 1 0 0 1\n",
            " 0 0 0 0 0 1 1 0 0 0 1 1 1 1 1 1 0 0 0 0 0 1 0 0 1 0 0 1 1 0 1 1 0 1 0 0 0\n",
            " 0 0 0 1 0 1 0 1 0 1 0 0 0 1 0 0 1 0 0 0 0 0 0 0 0 1 1 1 1 0 1 0 0 0 0 1 0\n",
            " 0 0]\n"
          ],
          "name": "stdout"
        }
      ]
    },
    {
      "cell_type": "code",
      "metadata": {
        "id": "d2V7KnLTqT-a"
      },
      "source": [
        "from sklearn.model_selection import train_test_split\n",
        "X_train, X_test, y_train, y_test = train_test_split(input, output, test_size=0.30, random_state=42)"
      ],
      "execution_count": null,
      "outputs": []
    },
    {
      "cell_type": "code",
      "metadata": {
        "id": "TTDn5mvENH6Y"
      },
      "source": [
        "from sklearn.tree import DecisionTreeClassifier\n",
        "decision_tree = DecisionTreeClassifier(random_state=42)"
      ],
      "execution_count": null,
      "outputs": []
    },
    {
      "cell_type": "code",
      "metadata": {
        "id": "S2QYFiGKZZv1",
        "outputId": "e7dcf28e-e61e-470d-bbf6-bbc405e2643b",
        "colab": {
          "base_uri": "https://localhost:8080/"
        }
      },
      "source": [
        "decision_tree.fit(X_train, y_train)\n",
        "\n",
        "tree_preds = decision_tree.predict(X_test)\n",
        "print(tree_preds)"
      ],
      "execution_count": null,
      "outputs": [
        {
          "output_type": "stream",
          "text": [
            "[1 1 1 1 0 1 1 1 1 0 1 0 0 0 0 1 1 0 0 0 1 1 1 0 0 0 0 0 1 0 0 0 0 0 0 0 1\n",
            " 1 1 0 1 1 1 1 1 0 0 1 1 1 0 1 0 1 1 1 0 1 0 1 1 0 0 1 1 1 0 0 1 1 0 1 1 1\n",
            " 0 0 1 1 1]\n"
          ],
          "name": "stdout"
        }
      ]
    },
    {
      "cell_type": "code",
      "metadata": {
        "id": "enC9zfkxN00A",
        "outputId": "6c4d63a3-ab3c-476b-adac-c0fe52fdcaa7",
        "colab": {
          "base_uri": "https://localhost:8080/"
        }
      },
      "source": [
        "from sklearn.metrics import accuracy_score\n",
        "\n",
        "accuracy_score(y_test, tree_preds)"
      ],
      "execution_count": null,
      "outputs": [
        {
          "output_type": "execute_result",
          "data": {
            "text/plain": [
              "0.8734177215189873"
            ]
          },
          "metadata": {
            "tags": []
          },
          "execution_count": 31
        }
      ]
    },
    {
      "cell_type": "markdown",
      "metadata": {
        "id": "rt-kTBz4aMZi"
      },
      "source": [
        "**R: c. Aproximadamente, 0,87.**"
      ]
    },
    {
      "cell_type": "markdown",
      "metadata": {
        "id": "tZHxDiO1pyNG"
      },
      "source": [
        "### Pergunta 14\n",
        "Sobre a matriz de confusão obtida após a aplicação da árvore de decisão, como mostrado anteriormente, é INCORRETO afirmar:\n",
        "___\n",
        "a. A matriz de confusão se constitui em uma estratégia ainda mais importante quando um dataset não está balanceado.  \n",
        "b. Existem duas vezes mais veículos considerados não eficientes que instâncias de veículos eficientes.  \n",
        "c. A diagonal principal da matriz mostra que as instâncias em que as previsões foram corretas.  \n",
        "d. Os falso-positivos correspondem a instâncias em que o algoritmo considerou a previsão como verdadeira e, na realidade, ela era falsa."
      ]
    },
    {
      "cell_type": "code",
      "metadata": {
        "id": "DB6IMcSgqUXB",
        "outputId": "2495cfa1-6784-4bdb-9090-dbb1abf4945b",
        "colab": {
          "base_uri": "https://localhost:8080/"
        }
      },
      "source": [
        "from sklearn.metrics import confusion_matrix\n",
        "\n",
        "confusion_matrix(y_test, tree_preds)"
      ],
      "execution_count": null,
      "outputs": [
        {
          "output_type": "execute_result",
          "data": {
            "text/plain": [
              "array([[33,  8],\n",
              "       [ 2, 36]])"
            ]
          },
          "metadata": {
            "tags": []
          },
          "execution_count": 32
        }
      ]
    },
    {
      "cell_type": "markdown",
      "metadata": {
        "id": "EV8g1MDubv93"
      },
      "source": [
        "**R: b. Existem duas vezes mais veículos considerados não eficientes que instâncias de veículos eficientes.**"
      ]
    },
    {
      "cell_type": "markdown",
      "metadata": {
        "id": "N0V9CVPZp5Iw"
      },
      "source": [
        "### Pergunta 15\n",
        "Utilizando a mesma divisão de dados entre treinamento e teste empregada para a análise anterior, aplique o modelo de regressão logística como mostrado na descrição do trabalho.\n",
        "\n",
        "Comparando os resultados obtidos com o modelo de árvore de decisão, é INCORRETO afirmar que:\n",
        "___\n",
        "a. A árvore de decisão e a regressão logística podem ser utilizadas para previsão em regressões.  \n",
        "b. A acurácia de ambos os modelos foi superior a 80%.  \n",
        "c. A regressão logística não deveria ser aplicada ao problema, pois ela trabalha apenas com dados categóricos.  \n",
        "d. Como os dois modelos obtiveram um resultado superior a 80% de acurácia, a escolha sobre qual utilizar deve e pode ser feita a partir de outros critérios, como a complexidade do modelo."
      ]
    },
    {
      "cell_type": "code",
      "metadata": {
        "id": "_KD4ouTBH_HC",
        "outputId": "08c42fb7-d504-4d26-f600-2eb2db356e8f",
        "colab": {
          "base_uri": "https://localhost:8080/"
        }
      },
      "source": [
        "from sklearn.linear_model import LogisticRegression\n",
        "\n",
        "logi_regression = LogisticRegression(random_state=42)\n",
        "logi_regression.fit(X_train, y_train)\n",
        "\n",
        "lr_preds = logi_regression.predict(X_test)\n",
        "print(lr_preds)"
      ],
      "execution_count": null,
      "outputs": [
        {
          "output_type": "stream",
          "text": [
            "[1 1 1 0 0 1 0 1 1 0 1 0 0 0 1 1 0 0 0 0 1 1 1 0 0 0 0 0 0 0 0 0 0 0 0 0 1\n",
            " 1 1 0 1 1 1 0 0 1 1 0 1 0 0 1 0 1 1 1 0 1 0 1 1 0 0 1 1 1 0 0 1 1 0 1 1 0\n",
            " 0 0 1 1 0]\n"
          ],
          "name": "stdout"
        }
      ]
    },
    {
      "cell_type": "code",
      "metadata": {
        "id": "4yTInNaceRVQ",
        "outputId": "f157cd03-9232-45c6-b891-1afc2250084c",
        "colab": {
          "base_uri": "https://localhost:8080/"
        }
      },
      "source": [
        "accuracy_score(y_test, lr_preds)"
      ],
      "execution_count": null,
      "outputs": [
        {
          "output_type": "execute_result",
          "data": {
            "text/plain": [
              "0.8607594936708861"
            ]
          },
          "metadata": {
            "tags": []
          },
          "execution_count": 37
        }
      ]
    },
    {
      "cell_type": "markdown",
      "metadata": {
        "id": "b7cFQmlcfDIJ"
      },
      "source": [
        "**R: c. A regressão logística não deveria ser aplicada ao problema, pois ela trabalha apenas com dados categóricos.**"
      ]
    }
  ]
}